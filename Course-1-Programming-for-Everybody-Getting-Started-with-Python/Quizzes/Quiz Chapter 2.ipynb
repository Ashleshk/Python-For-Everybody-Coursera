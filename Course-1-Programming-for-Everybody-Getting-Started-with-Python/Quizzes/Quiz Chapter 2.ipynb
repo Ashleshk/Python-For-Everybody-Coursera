{
 "cells": [
  {
   "cell_type": "markdown",
   "metadata": {},
   "source": [
    "1. In the following code, print 98.6. What is \"98.6\"?\n",
    "    - A constant\n",
    "2. In the following code, x = 42. What is \"x\"?\n",
    "    - A variable\n",
    "3. Which of the following variables is the \"most mnemonic\"?\n",
    "    - hours\n",
    "4. Which of the following is not a Python reserved word?\n",
    "    - speed\n",
    "5. Assume the variable x has been initialized to an integer value (e.g., x = 3). What does the following statement do? x = x + 2\n",
    "    - Retrieve the current value for x, add two to it and put the sum back into x\n",
    "6. Which of the following elements of a mathematical expression in Python is evaluated first?\n",
    "    -Parenthesis()\n",
    "7. What is the value of the following expression\n",
    "    - 2\n",
    "8. What will be the value of x after the following statement executes: x = 1 + 2 * 3 - 8 / 4\n",
    "    - 5\n",
    "9. What will be the value of x when the following statement is executed: x = int(98.6)\n",
    "    - 98\n",
    "10. What does the Python raw_input() function do?\n",
    "    - Pause the program and read data from the user"
   ]
  }
 ],
 "metadata": {
  "kernelspec": {
   "display_name": "Python 3",
   "language": "python",
   "name": "python3"
  },
  "language_info": {
   "codemirror_mode": {
    "name": "ipython",
    "version": 3
   },
   "file_extension": ".py",
   "mimetype": "text/x-python",
   "name": "python",
   "nbconvert_exporter": "python",
   "pygments_lexer": "ipython3",
   "version": "3.7.4"
  }
 },
 "nbformat": 4,
 "nbformat_minor": 4
}
