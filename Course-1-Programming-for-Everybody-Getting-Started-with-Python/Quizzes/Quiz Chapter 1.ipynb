{
 "cells": [
  {
   "cell_type": "markdown",
   "metadata": {},
   "source": [
    "1. When Python is running in the interactive mode and displaying the chevron prompt (>>>) - what question is Python asking you?\n",
    "    - What would you like to do?\n",
    "2. What will the following program print out: >>> x = 15; >>> x = x + 5; >>> print x\n",
    "    - 20\n",
    "3. Python scripts (files) have names that end with:\n",
    "    - .py\n",
    "4. Which of these words are reserved words in Python ?\n",
    "    - if\n",
    "    - break\n",
    "5. What is the proper way to say “good-bye” to Python?\n",
    "    - quit()\n",
    "6. Which of the parts of a computer actually executes the program instructions?\n",
    "    - Central Processing Unit\n",
    "7. What is \"code\" in the context of this course?\n",
    "    - A sequence of instructions in a programming language\n",
    "8. A USB memory stick is an example of which of the following components of computer architecture?\n",
    "    - Secondary Memory\n",
    "9. What is the best way to think about a \"Syntax Error\" while programming?\n",
    "    - The computer did not understand the statement that you entered\n",
    "10. Which of the following is not one of the programming patterns covered in Chapter 1?\n",
    "    - Random steps"
   ]
  }
 ],
 "metadata": {
  "kernelspec": {
   "display_name": "Python 3",
   "language": "python",
   "name": "python3"
  },
  "language_info": {
   "codemirror_mode": {
    "name": "ipython",
    "version": 3
   },
   "file_extension": ".py",
   "mimetype": "text/x-python",
   "name": "python",
   "nbconvert_exporter": "python",
   "pygments_lexer": "ipython3",
   "version": "3.7.4"
  }
 },
 "nbformat": 4,
 "nbformat_minor": 4
}
