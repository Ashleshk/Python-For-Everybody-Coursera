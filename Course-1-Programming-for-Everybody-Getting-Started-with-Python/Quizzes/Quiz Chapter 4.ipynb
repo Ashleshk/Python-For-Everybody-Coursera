{
 "cells": [
  {
   "cell_type": "markdown",
   "metadata": {},
   "source": [
    "1. Which Python keyword indicates the start of a function definition?\n",
    "    - def\n",
    "2. In Python, how do you indicate the end of the block of code that makes up the function?\n",
    "    - You de-indent a line of code to the same indent level as the def keyword\n",
    "3. In Python what is the raw_input() feature best described as?\n",
    "    - A built-in function\n",
    "4. What does the following code print out? def thing(): print 'Hello'; print 'There'\n",
    "    - There\n",
    "5. In the following Python code, which of the following is an \"argument\" to a function? x = 'banana'; y = max(x); print y\n",
    "    - x\n",
    "6. What will the following Python code print out? def func(x) : print x; func(10); func(20)\n",
    "    - 10, 20\n",
    "7. Which line of the following Python program is useless? def stuff(): print 'Hello' return print 'World' stuff()\n",
    "    - print 'World'\n",
    "8. What will the following Python program print out? def greet(lang): if lang == 'es': return 'Hola' elif lang == 'fr': return 'Bonjour' else: return 'Hello' print greet('fr'),'Michael'\n",
    "    - Bonjour Michael\n",
    "9. What does the following Python code print out? (Note that this is a bit of a trick question and the code has what many would consider to be a flaw/bug - so read carefully). def addtwo(a, b): added = a + b return a; x = addtwo(2, 7); print x\n",
    "    - 2\n",
    "10. What is the most important benefit of writing your own functions?\n",
    "    - Avoiding writing the same non-trivial code more than once in your program"
   ]
  }
 ],
 "metadata": {
  "kernelspec": {
   "display_name": "Python 3",
   "language": "python",
   "name": "python3"
  },
  "language_info": {
   "codemirror_mode": {
    "name": "ipython",
    "version": 3
   },
   "file_extension": ".py",
   "mimetype": "text/x-python",
   "name": "python",
   "nbconvert_exporter": "python",
   "pygments_lexer": "ipython3",
   "version": "3.7.4"
  }
 },
 "nbformat": 4,
 "nbformat_minor": 4
}
