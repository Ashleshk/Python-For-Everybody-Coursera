{
 "cells": [
  {
   "cell_type": "markdown",
   "metadata": {},
   "source": [
    "1. What do we do to a Python statement that is immediately after an if statement to indicate that the statement is to be executed only when the if statement is true?\n",
    "    - Indent the line below the if statement\n",
    "2. Which of these operators is not a comparison / logical operator?\n",
    "    - =\n",
    "3. What is true about the following code segment: if  x == 5 : print 'Is 5' print 'Is Still 5' print 'Third 5'\n",
    "    - Depending on the value of x, either all three of the print statements will execute or none of the statements will execute\n",
    "4. When you have multiple lines in an if block, how do you indicate the end of the if block?\n",
    "    - You de-indent the next line past the if block to the same level of indent as the original if statement\n",
    "5. You look at the following text: if x == 6 : print 'Is 6' print 'Is Still 6' print 'Third 6'. It looks perfect but Python is giving you an 'Indentation Error' on the second print statement. What is the most likely reason?\n",
    "    - You have mixed tabs and spaces in the file\n",
    "6. What is the Python reserved word that we use in two-way if tests to indicate the block of code that is to be executed if the logical test is false?\n",
    "    - else\n",
    "7. What will the following code print out? x = 0 if x < 2 : print 'Small' elif x < 10 : print 'Medium' else : print 'LARGE' print 'All done'\n",
    "    - Small All done\n",
    "8. For the following code, if x < 2: print 'Below 2' elif x >= 2: print 'Two or more' else: print 'Something else'. What value of 'x' will cause 'Something else' to print out?\n",
    "    - This code will never print 'Something else' regardless of the value for 'x'\n",
    "9. In the following code (numbers added) - which will be the last line to execute successfully? (1)   astr = 'Hello Bob'; (2)   istr = int(astr); (3)   print 'First', istr; (4)   astr = '123'; (5)   istr = int(astr); (6)   print 'Second', istr\n",
    "    - 1\n",
    "10. For the following code: astr = 'Hello Bob' istr = 0 try: istr = int(astr) except: istr = -1. What will the value be for istr after this code executes?\n",
    "    - -1"
   ]
  }
 ],
 "metadata": {
  "kernelspec": {
   "display_name": "Python 3",
   "language": "python",
   "name": "python3"
  },
  "language_info": {
   "codemirror_mode": {
    "name": "ipython",
    "version": 3
   },
   "file_extension": ".py",
   "mimetype": "text/x-python",
   "name": "python",
   "nbconvert_exporter": "python",
   "pygments_lexer": "ipython3",
   "version": "3.7.4"
  }
 },
 "nbformat": 4,
 "nbformat_minor": 4
}
