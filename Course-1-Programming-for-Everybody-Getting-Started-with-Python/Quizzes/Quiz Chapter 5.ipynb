{
 "cells": [
  {
   "cell_type": "markdown",
   "metadata": {},
   "source": [
    "1. What is wrong with this Python loop: n = 5; while n > 0 : print n; print 'All done'\n",
    "    - This loop will run forever.\n",
    "2. What does the break statement do?\n",
    "    - Exits the currently executing loop.\n",
    "3. What does the continue statement do?\n",
    "    - Jumps to the \"top\" of the loop and starts the next iteration.\n",
    "4. What does the following Python program print out? tot = 0; for i in [5, 4, 3, 2, 1] : tot = tot + 1; print tot\n",
    "    - 5\n",
    "5. What is the iteration variable in the following Python code: friends = ['Joseph', 'Glenn', 'Sally']; for friend in friends : print 'Happy New Year:',  friend; print 'Done!'\n",
    "    - friend\n",
    "6. What is a good description of the following bit of Python code?; zork = 0; for thing in [9, 41, 12, 3, 74, 15] : zork = zork + thing; print 'After', zork\n",
    "    - Sum all the elements of a list\n",
    "7. What will the following code print out? smallest_so_far = -1; for the_num in [9, 41, 12, 3, 74, 15] : if the_num < smallest_so_far : smallest_so_far = the_num; print smallest_so_far\n",
    "    - -1\n",
    "8. What is a good statement to describe the is operator as used in the following if statement: if smallest is None : smallest = value\n",
    "    - matches both type and value\n",
    "9.  Which reserved word indicates the start of an \"indefinite\" loop in Python?\n",
    "    - while\n",
    "10. How many times will the body of the following loop be executed? n = 0; while n > 0 : print 'Lather' print 'Rinse'; print 'Dry off!'\n",
    "    - 0"
   ]
  }
 ],
 "metadata": {
  "kernelspec": {
   "display_name": "Python 3",
   "language": "python",
   "name": "python3"
  },
  "language_info": {
   "codemirror_mode": {
    "name": "ipython",
    "version": 3
   },
   "file_extension": ".py",
   "mimetype": "text/x-python",
   "name": "python",
   "nbconvert_exporter": "python",
   "pygments_lexer": "ipython3",
   "version": "3.7.4"
  }
 },
 "nbformat": 4,
 "nbformat_minor": 4
}
