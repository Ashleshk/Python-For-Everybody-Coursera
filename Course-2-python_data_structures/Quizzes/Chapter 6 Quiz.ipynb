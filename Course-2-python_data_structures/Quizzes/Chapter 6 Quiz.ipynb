{
 "cells": [
  {
   "cell_type": "markdown",
   "metadata": {},
   "source": [
    "1. What does the following Python Program print out? str1 = \"Hello\"; str2 = 'there'; bob = str1 + str2; print bob\n",
    "    - Hellothere\n",
    "2. What does the following Python program print out? x = '40'; y = int(x) + 2; print y\n",
    "    - 42\n",
    "3. How would you use the index operator [] to print out the letter q from the following string? x = 'From marquard@uct.ac.za'\n",
    "    - print x[8]\n",
    "4. How would you use string slicing [:] to print out 'uct' from the following string? x = 'From marquard@uct.ac.za'\n",
    "    - print x[14:17]\n",
    "5.  What is the iteration variable in the following Python code? for letter in 'banana' : print letter\n",
    "    - letter\n",
    "6. What does the following Python code print out? print len('banana')*7\n",
    "    - 42\n",
    "7. How would you print out the following variable in all upper case in Python? greet = 'Hello Bob'\n",
    "    - print greet.upper()\n",
    "8. Which of the following is not a valid string method in Python?\n",
    "    - twist()\n",
    "9. What will the following Python code print out? data = 'From stephen.marquard@uct.ac.za Sat Jan  5 09:14:16 2008'; pos = data.find('.'); print data[pos:pos+3]\n",
    "    - .ma\n",
    "10. Which of the following string methods removes whitespace from both the beginning and end of a string?\n",
    "    - strip()"
   ]
  }
 ],
 "metadata": {
  "kernelspec": {
   "display_name": "Python 3",
   "language": "python",
   "name": "python3"
  },
  "language_info": {
   "codemirror_mode": {
    "name": "ipython",
    "version": 3
   },
   "file_extension": ".py",
   "mimetype": "text/x-python",
   "name": "python",
   "nbconvert_exporter": "python",
   "pygments_lexer": "ipython3",
   "version": "3.7.4"
  }
 },
 "nbformat": 4,
 "nbformat_minor": 4
}
