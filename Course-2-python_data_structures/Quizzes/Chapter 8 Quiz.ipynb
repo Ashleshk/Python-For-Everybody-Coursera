{
 "cells": [
  {
   "cell_type": "markdown",
   "metadata": {},
   "source": [
    "1. How are \"collection\" variables different from normal variables?\n",
    "    - Collection variables can store multiple values in a single variable\n",
    "2. What are the Python keywords used to construct a loop to iterate through a list?\n",
    "    - for/in\n",
    "3. For the following list, how would you print out 'Sally'? friends = [ 'Joseph', 'Glenn', 'Sally']\n",
    "    - print friends[2]\n",
    "4. fruit = 'Banana' fruit[0] = 'b'; print fruit\n",
    "    - Nothing would print the program fails with a traceback\n",
    "5. Which of the following Python statements would print out the length of a list stored in the variable data?\n",
    "    - print len(data)\n",
    "6. What type of data is produced when you call the range() function? x = range(5)\n",
    "    - A list of integers\n",
    "7. What does the following Python code print out? a = [1, 2, 3]; b = [4, 5, 6]; c = a + b; print len(c)\n",
    "    - 6\n",
    "8. Which of the following slicing operations will produce the list [12, 3]? t = [9, 41, 12, 3, 74, 15]\n",
    "    - t[2:4]\n",
    "9. What list method adds a new item to the end of an existing list?\n",
    "    - append()\n",
    "10. What will the following Python code print out? friends = [ 'Joseph', 'Glenn', 'Sally' ]; friends.sort(); print friends[0]\n",
    "    - Glenn"
   ]
  }
 ],
 "metadata": {
  "kernelspec": {
   "display_name": "Python 3",
   "language": "python",
   "name": "python3"
  },
  "language_info": {
   "codemirror_mode": {
    "name": "ipython",
    "version": 3
   },
   "file_extension": ".py",
   "mimetype": "text/x-python",
   "name": "python",
   "nbconvert_exporter": "python",
   "pygments_lexer": "ipython3",
   "version": "3.7.4"
  }
 },
 "nbformat": 4,
 "nbformat_minor": 4
}
