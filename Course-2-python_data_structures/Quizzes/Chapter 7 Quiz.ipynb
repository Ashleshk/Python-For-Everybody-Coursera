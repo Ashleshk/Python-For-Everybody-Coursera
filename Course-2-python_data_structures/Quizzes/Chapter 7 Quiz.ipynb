{
 "cells": [
  {
   "cell_type": "markdown",
   "metadata": {},
   "source": [
    "1. Given the architecture and terminology we introduced in Chapter 1, where are files stored?\n",
    "    - Secondary memory\n",
    "2. What is stored in a \"file handle\" that is returned from a successful open() call?\n",
    "    - The handle is a connection to the file's data\n",
    "3. What do we use the second parameter of the open() call to indicate?\n",
    "    - Whether we want to read data from the file or write data to the file\n",
    "4. What Python function would you use if you wanted to prompt the user for a file name to open?\n",
    "    - raw_input()\n",
    "5. What is the purpose of the newline character in text files?\n",
    "    - It indicates the end of one line of text and the beginning of another line of text\n",
    "6. If we open a file as follows: xfile = open('mbox.txt'). What statement would we use to read the file one line at a time?\n",
    "    - for line in xfile:\n",
    "7. What is the purpose of the following Python code? fhand = open('mbox.txt'); x = 0; for line in fhand: x = x + 1; print x\n",
    "    - Count the lines in the file 'mbox.txt'\n",
    "8. If you write a Python program to read a text file and you see extra blank lines in the output that are not present in the file input as shown below, what Python string function will likely solve the problem?. From: stephen.marquard@uct.ac.za; From: louis@media.berkeley.edu; From: zqian@umich.edu; From: rjlowe@iupui.edu ...\n",
    "    - strip()\n",
    "9. The following code sequence fails with a traceback when the user enters a file that does not exist. How would you avoid the traceback and make it so you could print out your own error message when a bad file name was entered? fname = raw_input('Enter the file name: '); fhand = open(fname)\n",
    "    - try / except\n",
    "10. What does the following Python code do? fhand = open('mbox-short.txt'); inp = fhand.read()\n",
    "    - Reads the entire file into the variable inp as a string"
   ]
  }
 ],
 "metadata": {
  "kernelspec": {
   "display_name": "Python 3",
   "language": "python",
   "name": "python3"
  },
  "language_info": {
   "codemirror_mode": {
    "name": "ipython",
    "version": 3
   },
   "file_extension": ".py",
   "mimetype": "text/x-python",
   "name": "python",
   "nbconvert_exporter": "python",
   "pygments_lexer": "ipython3",
   "version": "3.7.4"
  }
 },
 "nbformat": 4,
 "nbformat_minor": 4
}
