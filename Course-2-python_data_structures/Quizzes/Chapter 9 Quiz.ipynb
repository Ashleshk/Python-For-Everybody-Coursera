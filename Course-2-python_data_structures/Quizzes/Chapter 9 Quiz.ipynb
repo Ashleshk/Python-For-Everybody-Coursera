{
 "cells": [
  {
   "cell_type": "markdown",
   "metadata": {},
   "source": [
    "1. How are Python dictionaries different from Python lists?\n",
    "    - Python lists are indexed using integers and dictionaries can use strings as indexes\n",
    "2. What is a term commonly used to describe the Python dictionary feature in other programming languages?\n",
    "    - Associative arrays\n",
    "3. What would the following Python code print out? stuff = dict(); print stuff['candy']\n",
    "    - The program would fail with a traceback\n",
    "4. What would the following Python code print out? stuff = dict(); print stuff.get('candy',-1)\n",
    "    - -1\n",
    "5. (T/F) When you add items to a dictionary they remain in the order in which you added them.\n",
    "    - False\n",
    "6. What is a common use of Python dictionaries in a program?\n",
    "    - Building a histogram counting the occurrences of various strings in a file\n",
    "7. Which of the following lines of Python is equivalent to the following sequence of statements assuming that counts is a dictionary? if key in counts: counts[key] = counts[key] + 1 else: counts[key] = 1\n",
    "    - counts[key] = counts.get(key,0) + 1\n",
    "8. In the following Python, what does the for loop iterate through? x = dict() ... for y in x : ...\n",
    "    - It loops through the keys in the dictionary\n",
    "9. Which method in a dictionary object gives you a list of the values in the dictionary?\n",
    "    - values()\n",
    "10. What is the purpose of the second parameter of the get() method for Python dictionaries?\n",
    "    - To provide a default value if the key is not found"
   ]
  }
 ],
 "metadata": {
  "kernelspec": {
   "display_name": "Python 2",
   "language": "python",
   "name": "python2"
  },
  "language_info": {
   "codemirror_mode": {
    "name": "ipython",
    "version": 2
   },
   "file_extension": ".py",
   "mimetype": "text/x-python",
   "name": "python",
   "nbconvert_exporter": "python",
   "pygments_lexer": "ipython2",
   "version": "2.7.11"
  }
 },
 "nbformat": 4,
 "nbformat_minor": 0
}
